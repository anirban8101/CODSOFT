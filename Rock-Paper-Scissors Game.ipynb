{
 "cells": [
  {
   "cell_type": "code",
   "execution_count": 1,
   "id": "34e45f61",
   "metadata": {},
   "outputs": [],
   "source": [
    "import tkinter as tk\n",
    "import random\n",
    "user_score = 0\n",
    "computer_score = 0\n",
    "def play_game(user_choice):\n",
    "    global user_score, computer_score\n",
    "    computer_choice = random.choice([\"rock\", \"paper\", \"scissors\"])\n",
    "    if user_choice == computer_choice:\n",
    "        result_label.config(text=\"It's a tie!\")\n",
    "    elif (\n",
    "        (user_choice == \"rock\" and computer_choice == \"scissors\")\n",
    "        or (user_choice == \"scissors\" and computer_choice == \"paper\")\n",
    "        or (user_choice == \"paper\" and computer_choice == \"rock\")\n",
    "    ):\n",
    "        result_label.config(text=\"You win!\")\n",
    "        user_score += 1\n",
    "    else:\n",
    "        result_label.config(text=\"Computer wins!\")\n",
    "        computer_score += 1\n",
    "    user_score_label.config(text=f\"Your score: {user_score}\")\n",
    "    computer_score_label.config(text=f\"Computer's score: {computer_score}\")\n",
    "    choices_label.config(text=f\"You chose: {user_choice}\\nComputer chose: {computer_choice}\")\n",
    "window = tk.Tk()\n",
    "window.title(\"Rock, Paper, Scissors\")\n",
    "instructions_label = tk.Label(window, text=\"Choose Rock, Paper, or Scissors\")\n",
    "instructions_label.pack()\n",
    "rock_button = tk.Button(window, text=\"Rock\", command=lambda: play_game(\"rock\"))\n",
    "paper_button = tk.Button(window, text=\"Paper\", command=lambda: play_game(\"paper\"))\n",
    "scissors_button = tk.Button(window, text=\"Scissors\", command=lambda: play_game(\"scissors\"))\n",
    "\n",
    "rock_button.pack()\n",
    "paper_button.pack()\n",
    "scissors_button.pack()\n",
    "result_label = tk.Label(window, text=\"\", font=(\"Helvetica\", 14))\n",
    "result_label.pack()\n",
    "user_score_label = tk.Label(window, text=\"Your score: 0\", font=(\"Helvetica\", 12))\n",
    "computer_score_label = tk.Label(window, text=\"Computer's score: 0\", font=(\"Helvetica\", 12))\n",
    "user_score_label.pack()\n",
    "computer_score_label.pack()\n",
    "choices_label = tk.Label(window, text=\"\", font=(\"Helvetica\", 12))\n",
    "choices_label.pack()\n",
    "window.mainloop()\n"
   ]
  },
  {
   "cell_type": "code",
   "execution_count": null,
   "id": "56e33764",
   "metadata": {},
   "outputs": [],
   "source": []
  },
  {
   "cell_type": "code",
   "execution_count": null,
   "id": "0a68ca5d",
   "metadata": {},
   "outputs": [],
   "source": []
  }
 ],
 "metadata": {
  "kernelspec": {
   "display_name": "Python 3 (ipykernel)",
   "language": "python",
   "name": "python3"
  },
  "language_info": {
   "codemirror_mode": {
    "name": "ipython",
    "version": 3
   },
   "file_extension": ".py",
   "mimetype": "text/x-python",
   "name": "python",
   "nbconvert_exporter": "python",
   "pygments_lexer": "ipython3",
   "version": "3.10.6"
  }
 },
 "nbformat": 4,
 "nbformat_minor": 5
}
