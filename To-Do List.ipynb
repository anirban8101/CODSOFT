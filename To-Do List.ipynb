{
 "cells": [
  {
   "cell_type": "code",
   "execution_count": 1,
   "id": "e47ce4ae",
   "metadata": {},
   "outputs": [],
   "source": [
    "import tkinter as tk\n",
    "\n",
    "def add_task():\n",
    "    task = entry.get()\n",
    "    if task:\n",
    "        task_list.insert(tk.END, task)\n",
    "        entry.delete(0, tk.END)\n",
    "\n",
    "def update_task():\n",
    "    selected_task = task_list.curselection()\n",
    "    new_task = entry.get()\n",
    "    if selected_task and new_task:\n",
    "        task_list.delete(selected_task)\n",
    "        task_list.insert(selected_task, new_task)\n",
    "        entry.delete(0, tk.END)\n",
    "\n",
    "def remove_task():\n",
    "    selected_task = task_list.curselection()\n",
    "    if selected_task:\n",
    "        task_list.delete(selected_task)\n",
    "\n",
    "def display_task(event):\n",
    "    selected_task = task_list.curselection()\n",
    "    if selected_task:\n",
    "        task = task_list.get(selected_task)\n",
    "        output_label.config(text=f\"Selected Task: {task}\")\n",
    "\n",
    "root = tk.Tk()\n",
    "root.title(\"To-Do List\")\n",
    "\n",
    "task_list = tk.Listbox(root, selectmode=tk.SINGLE)\n",
    "task_list.pack()\n",
    "\n",
    "entry = tk.Entry(root)\n",
    "entry.pack()\n",
    "\n",
    "add_button = tk.Button(root, text=\"Add Task\", command=add_task)\n",
    "add_button.pack()\n",
    "\n",
    "update_button = tk.Button(root, text=\"Update Task\", command=update_task)\n",
    "update_button.pack()\n",
    "\n",
    "remove_button = tk.Button(root, text=\"Remove Task\", command=remove_task)\n",
    "remove_button.pack()\n",
    "\n",
    "output_label = tk.Label(root, text=\"Selected Task: None\")\n",
    "output_label.pack()\n",
    "\n",
    "task_list.bind(\"<<ListboxSelect>>\", display_task)\n",
    "\n",
    "root.mainloop()"
   ]
  },
  {
   "cell_type": "code",
   "execution_count": null,
   "id": "56c3e3a3",
   "metadata": {},
   "outputs": [],
   "source": []
  },
  {
   "cell_type": "code",
   "execution_count": null,
   "id": "abcf4065",
   "metadata": {},
   "outputs": [],
   "source": []
  }
 ],
 "metadata": {
  "kernelspec": {
   "display_name": "Python 3 (ipykernel)",
   "language": "python",
   "name": "python3"
  },
  "language_info": {
   "codemirror_mode": {
    "name": "ipython",
    "version": 3
   },
   "file_extension": ".py",
   "mimetype": "text/x-python",
   "name": "python",
   "nbconvert_exporter": "python",
   "pygments_lexer": "ipython3",
   "version": "3.10.6"
  }
 },
 "nbformat": 4,
 "nbformat_minor": 5
}
