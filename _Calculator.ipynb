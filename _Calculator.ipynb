{
 "cells": [
  {
   "cell_type": "code",
   "execution_count": 1,
   "id": "e7662ee2",
   "metadata": {},
   "outputs": [],
   "source": [
    "import tkinter as tk\n",
    "def calculate():\n",
    "    num1 = float(entry_num1.get())\n",
    "    num2 = float(entry_num2.get())\n",
    "    operation = operation_var.get()\n",
    "    \n",
    "    if operation == \"+\":\n",
    "        result.set(num1 + num2)\n",
    "    elif operation == \"-\":\n",
    "        result.set(num1 - num2)\n",
    "    elif operation == \"*\":\n",
    "        result.set(num1 * num2)\n",
    "    elif operation == \"/\":\n",
    "        if num2 != 0:\n",
    "            result.set(num1 / num2)\n",
    "        else:\n",
    "            result.set(\"Error: Division by zero is not allowed.\")\n",
    "    else:\n",
    "        result.set(\"Error: Invalid operation.\")\n",
    "root = tk.Tk()\n",
    "root.title(\"Simple Calculator\")\n",
    "label_num1 = tk.Label(root, text=\"Enter the first number:\")\n",
    "label_num1.pack()\n",
    "entry_num1 = tk.Entry(root)\n",
    "entry_num1.pack()\n",
    "label_num2 = tk.Label(root, text=\"Enter the second number:\")\n",
    "label_num2.pack()\n",
    "entry_num2 = tk.Entry(root)\n",
    "entry_num2.pack()\n",
    "label_operation = tk.Label(root, text=\"Choose an operation (+, -, *, /):\")\n",
    "label_operation.pack()\n",
    "operation_var = tk.StringVar()\n",
    "operation_var.set(\"+\")\n",
    "operation_option = tk.OptionMenu(root, operation_var, \"+\", \"-\", \"*\", \"/\")\n",
    "operation_option.pack()\n",
    "calculate_button = tk.Button(root, text=\"Calculate\", command=calculate)\n",
    "calculate_button.pack()\n",
    "result = tk.StringVar()\n",
    "result.set(\"Result will be shown here.\")\n",
    "result_label = tk.Label(root, textvariable=result)\n",
    "result_label.pack()\n",
    "root.mainloop()\n"
   ]
  },
  {
   "cell_type": "code",
   "execution_count": null,
   "id": "a46c47be",
   "metadata": {},
   "outputs": [],
   "source": []
  },
  {
   "cell_type": "code",
   "execution_count": null,
   "id": "3aefb236",
   "metadata": {},
   "outputs": [],
   "source": []
  },
  {
   "cell_type": "code",
   "execution_count": null,
   "id": "653beb9d",
   "metadata": {},
   "outputs": [],
   "source": []
  }
 ],
 "metadata": {
  "kernelspec": {
   "display_name": "Python 3 (ipykernel)",
   "language": "python",
   "name": "python3"
  },
  "language_info": {
   "codemirror_mode": {
    "name": "ipython",
    "version": 3
   },
   "file_extension": ".py",
   "mimetype": "text/x-python",
   "name": "python",
   "nbconvert_exporter": "python",
   "pygments_lexer": "ipython3",
   "version": "3.10.6"
  }
 },
 "nbformat": 4,
 "nbformat_minor": 5
}
