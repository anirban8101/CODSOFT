{
 "cells": [
  {
   "cell_type": "code",
   "execution_count": 3,
   "id": "76b0d9d2",
   "metadata": {},
   "outputs": [],
   "source": [
    "import tkinter as tk\n",
    "from tkinter import ttk\n",
    "import random\n",
    "import string\n",
    "def generate_password(length):\n",
    "    characters = string.ascii_letters + string.digits + string.punctuation\n",
    "    password = ''.join(random.choice(characters) for _ in range(length))\n",
    "    return password\n",
    "def generate_button_click():\n",
    "    try:\n",
    "        length = int(length_entry.get())\n",
    "        if length < 1:\n",
    "            result_text.config(text=\"Invalid length\", foreground=\"red\")\n",
    "        else:\n",
    "            password = generate_password(length)\n",
    "            result_text.config(text=\"Generated Password:\", foreground=\"green\")\n",
    "            password_display.config(text=password, foreground=\"black\")\n",
    "    except ValueError:\n",
    "        result_text.config(text=\"Please enter a valid length\", foreground=\"red\")\n",
    "root = tk.Tk()\n",
    "root.title(\"Password Generator\")\n",
    "frame = ttk.Frame(root, padding=20)\n",
    "frame.grid(column=0, row=0)\n",
    "length_label = ttk.Label(frame, text=\"Enter Password Length:\")\n",
    "length_label.grid(column=0, row=0, sticky=\"W\")\n",
    "length_entry = ttk.Entry(frame)\n",
    "length_entry.grid(column=1, row=0)\n",
    "generate_button = ttk.Button(frame, text=\"Generate Password\", command=generate_button_click)\n",
    "generate_button.grid(column=0, row=1, columnspan=2)\n",
    "result_text = ttk.Label(frame, text=\"\", foreground=\"black\")\n",
    "result_text.grid(column=0, row=2, columnspan=2)\n",
    "password_display = ttk.Label(frame, text=\"\", foreground=\"black\")\n",
    "password_display.grid(column=0, row=3, columnspan=2)\n",
    "root.mainloop()\n"
   ]
  },
  {
   "cell_type": "code",
   "execution_count": null,
   "id": "3e8f717b",
   "metadata": {},
   "outputs": [],
   "source": []
  },
  {
   "cell_type": "code",
   "execution_count": null,
   "id": "eb797eba",
   "metadata": {},
   "outputs": [],
   "source": []
  },
  {
   "cell_type": "code",
   "execution_count": null,
   "id": "80795930",
   "metadata": {},
   "outputs": [],
   "source": []
  }
 ],
 "metadata": {
  "kernelspec": {
   "display_name": "Python 3 (ipykernel)",
   "language": "python",
   "name": "python3"
  },
  "language_info": {
   "codemirror_mode": {
    "name": "ipython",
    "version": 3
   },
   "file_extension": ".py",
   "mimetype": "text/x-python",
   "name": "python",
   "nbconvert_exporter": "python",
   "pygments_lexer": "ipython3",
   "version": "3.10.6"
  }
 },
 "nbformat": 4,
 "nbformat_minor": 5
}
